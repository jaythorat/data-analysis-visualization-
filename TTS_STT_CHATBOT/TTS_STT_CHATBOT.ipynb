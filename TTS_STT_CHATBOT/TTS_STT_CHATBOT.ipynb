{
 "cells": [
  {
   "cell_type": "markdown",
   "id": "963e3200",
   "metadata": {},
   "source": [
    "# Assignment 1"
   ]
  },
  {
   "cell_type": "code",
   "execution_count": 1,
   "id": "4699d46e",
   "metadata": {},
   "outputs": [
    {
     "ename": "ModuleNotFoundError",
     "evalue": "No module named 'gtts'",
     "output_type": "error",
     "traceback": [
      "\u001b[1;31m---------------------------------------------------------------------------\u001b[0m",
      "\u001b[1;31mModuleNotFoundError\u001b[0m                       Traceback (most recent call last)",
      "\u001b[1;32me:\\Jay\\Python Git Projects\\adv py for ds\\Day 5- Assignment.ipynb Cell 2'\u001b[0m in \u001b[0;36m<cell line: 2>\u001b[1;34m()\u001b[0m\n\u001b[0;32m      <a href='vscode-notebook-cell:/e%3A/Jay/Python%20Git%20Projects/adv%20py%20for%20ds/Day%205-%20Assignment.ipynb#ch0000001?line=0'>1</a>\u001b[0m \u001b[39m# Using gTTS text to audio\u001b[39;00m\n\u001b[1;32m----> <a href='vscode-notebook-cell:/e%3A/Jay/Python%20Git%20Projects/adv%20py%20for%20ds/Day%205-%20Assignment.ipynb#ch0000001?line=1'>2</a>\u001b[0m \u001b[39mfrom\u001b[39;00m \u001b[39mgtts\u001b[39;00m \u001b[39mimport\u001b[39;00m gTTS\n\u001b[0;32m      <a href='vscode-notebook-cell:/e%3A/Jay/Python%20Git%20Projects/adv%20py%20for%20ds/Day%205-%20Assignment.ipynb#ch0000001?line=2'>3</a>\u001b[0m tts \u001b[39m=\u001b[39m gTTS(\u001b[39m'\u001b[39m\u001b[39mBest advance python course for Data Science\u001b[39m\u001b[39m'\u001b[39m,lang\u001b[39m=\u001b[39m\u001b[39m'\u001b[39m\u001b[39men\u001b[39m\u001b[39m'\u001b[39m)\n\u001b[0;32m      <a href='vscode-notebook-cell:/e%3A/Jay/Python%20Git%20Projects/adv%20py%20for%20ds/Day%205-%20Assignment.ipynb#ch0000001?line=3'>4</a>\u001b[0m tts2 \u001b[39m=\u001b[39m gTTS(\u001b[39m'\u001b[39m\u001b[39mडेटा सायन्ससाठी सर्वोत्तम अॅडव्हान्स पायथन कोर्स\u001b[39m\u001b[39m'\u001b[39m)\n",
      "\u001b[1;31mModuleNotFoundError\u001b[0m: No module named 'gtts'"
     ]
    }
   ],
   "source": [
    "# Using gTTS text to audio\n",
    "from gtts import gTTS\n",
    "tts = gTTS('Best advance python course for Data Science',lang='en')\n",
    "tts2 = gTTS('डेटा सायन्ससाठी सर्वोत्तम अॅडव्हान्स पायथन कोर्स')\n",
    "tts.save('audio_output_eng.mp3')\n",
    "tts2.save('audio_output_mar.mp3')\n",
    "print(\"Audio File created in CWD.\")"
   ]
  },
  {
   "cell_type": "markdown",
   "id": "a046ce72",
   "metadata": {},
   "source": [
    "# Assignment 2"
   ]
  },
  {
   "cell_type": "code",
   "execution_count": 9,
   "id": "a227f837",
   "metadata": {},
   "outputs": [
    {
     "name": "stdout",
     "output_type": "stream",
     "text": [
      "Current speed is :  160\n",
      "Current volume is :  1.0\n",
      "Audio Output has been saved to tts_output.mp3 file\n"
     ]
    }
   ],
   "source": [
    "import pyttsx3\n",
    "engine = pyttsx3.init()\n",
    "\n",
    "\"\"\" RATE\"\"\"\n",
    "rate = engine.getProperty('rate')   # getting details of current speaking rate\n",
    "print (\"Current speed is : \",rate)                        #printing current voice rate\n",
    "engine.setProperty('rate', 160)     # setting up new voice rate\n",
    "\"\"\"VOLUME\"\"\"\n",
    "volume = engine.getProperty('volume')   #getting to know current volume level (min=0 and max=1)\n",
    "print (\"Current volume is : \",volume)                          #printing current volume level\n",
    "engine.setProperty('volume',1)    # setting up volume level  between 0 and 1\n",
    "\"\"\"VOICE\"\"\"\n",
    "voices = engine.getProperty('voices')       #getting details of current voice\n",
    "#engine.setProperty('voice', voices[0].id)  #changing index, changes voices. o for male\n",
    "engine.setProperty('voice', voices[1].id)   #changing index, changes voices. 1 for female\n",
    "\n",
    "\"\"\"Saving Voice to a file\"\"\"\n",
    "\n",
    "engine.say(\"This is sample text to speech\")\n",
    "engine.save_to_file(\"This is sample text to speech saved to audio file.\", 'tts_output.mp3')\n",
    "print(\"Audio Output has been saved to tts_output.mp3 file\")\n",
    "engine.runAndWait()"
   ]
  },
  {
   "cell_type": "markdown",
   "id": "b9739240",
   "metadata": {},
   "source": [
    "# Assignment 3 - 1"
   ]
  },
  {
   "cell_type": "code",
   "execution_count": 10,
   "id": "60489115",
   "metadata": {},
   "outputs": [
    {
     "name": "stdout",
     "output_type": "stream",
     "text": [
      "summary the sides to break a teacher for the you keep adequate coverage the works of places to save money baby is taking longer to getting squared away then the bank was expected during the life events company in AVN heartattack se retirement income the British were inadequate news of the saving lives are heard it has done that you naked Bond what a discussion can insert when the title of this type of song is in question or waxing or gasing needed I prevent my be personalized now back work lace leather and lace work on a flat surface and smooths out this post and a separate system uses a single sirf contained Unity op shop at store holds a good mechanical isliye bad bus figures good Gauhar in late summer curable chairs cabinets chest down house is a set\n"
     ]
    }
   ],
   "source": [
    "import speech_recognition as sr\n",
    "\n",
    "filename = \"male.wav\"\n",
    "r = sr.Recognizer()\n",
    "with sr.AudioFile(filename) as source:\n",
    "    audio_data = r.record(source)\n",
    "    transcript = r.recognize_google(audio_data)\n",
    "    print(transcript)\n"
   ]
  },
  {
   "cell_type": "markdown",
   "id": "e3baa3fd",
   "metadata": {},
   "source": [
    "# Assignment 3 - 2"
   ]
  },
  {
   "cell_type": "code",
   "execution_count": 11,
   "id": "17aac7af",
   "metadata": {},
   "outputs": [
    {
     "name": "stdout",
     "output_type": "stream",
     "text": [
      "aapke pass Paryavaran sambandhi Lagu Kanoon ho aur viniyam Tak pahunch sunishchit karne aur aapke prachalan per Lagu hone wale Kanoon ko pahchan ke liye ek karyanvit system Hona chahie yadi aap Ericsson ke liye design ka kam Karte Hain To aapke liye bhi Ericsson ke Paryavaran Hetu design ka Palan karna avashyak hai\n"
     ]
    }
   ],
   "source": [
    "import speech_recognition as sr2\n",
    "\n",
    "filename = \"SampleHindi.wav\"\n",
    "r2 = sr2.Recognizer()\n",
    "with sr2.AudioFile(filename) as source2:\n",
    "    audio_data = r2.record(source2)\n",
    "    transcript2 = r2.recognize_google(audio_data)\n",
    "    print(transcript2)\n"
   ]
  },
  {
   "cell_type": "markdown",
   "id": "f942d6a0",
   "metadata": {},
   "source": [
    "# Assignment 4"
   ]
  },
  {
   "cell_type": "code",
   "execution_count": 13,
   "id": "b983f9a2",
   "metadata": {},
   "outputs": [],
   "source": [
    "import nltk\n",
    "from nltk.chat.util import Chat, reflections\n",
    "pairs = [\n",
    "    [\n",
    "        r\"my name is (.*)\",\n",
    "        [\"Hello %1, How are you today ?\",]  \n",
    "    ],\n",
    "    [\n",
    "        r\"hi|hey|hello\",\n",
    "        [\"Hello\", \"Hey there\",\"Namskar\"]\n",
    "    ],\n",
    "    [\n",
    "        r\"what is your name ?\",\n",
    "        [\"I am a bot created to solve your queries. You can call me pitcher!\",]\n",
    "    ],\n",
    "    [\n",
    "        r\"how are you ?\",\n",
    "        [\"I'm Super fine ! Hope are too\",\"I'm good,What about you?\"]\n",
    "    ],\n",
    "    [\n",
    "        r\"sorry (.*)\",\n",
    "        [\"Its alright\", \"Never mind\", \"It happens, don't mind\",\"Hey,Don't worry, its all good!\"]\n",
    "    ],\n",
    "    [\n",
    "        r\"I am fine\",\n",
    "        [\"Great to hear that, How can I help you?\",]\n",
    "    ],\n",
    "\n",
    "       [\n",
    "        r\"what (.*) want ?\",\n",
    "        [\"Make me an offer I can't refuse\",]\n",
    "    ],\n",
    "    [\n",
    "        r\"(.*) created ?\",\n",
    "        [\"Pitchers created me using Python's NLTK library \",\"It is a secret\",]\n",
    "    ],\n",
    "    [\n",
    "        r\"(.*) (location|city) ?\",\n",
    "        ['Nasik, Maharshtra',]\n",
    "    ],\n",
    "    [\n",
    "        r\"how is weather in (.*)?\",\n",
    "        [\"Weather in %1 is awesome like always\",\"%1 has always fantastic weather \",\"Not Too cold not too hot in %1\",]\n",
    "    ],\n",
    "    [\n",
    "\n",
    "        r\"i work in (.*)?\",\n",
    "        [\"%1 is an Amazing company, I have heard about it. But make sure to get more details.\",]\n",
    "\n",
    "    ],\n",
    "    [\n",
    "        r\"how (.*) health(.*)\",\n",
    "        [\"I'm a computer program, so I'm always at best of my health \", \"Super Fine\",]\n",
    "    ],\n",
    "    [\n",
    "        r\"(.*) (sports|game) ?\",\n",
    "        [\"I'm a very big fan of football,Real Madrid is my fav team\",]\n",
    "    ],\n",
    "    [\n",
    "        r\"who (.*) sportspersonwhich ?\",\n",
    "        [\"Virat Kohli\",\"Sachin Tendulkar\",\"M.S. Dhoni\",]\n",
    "    ],\n",
    "    [\n",
    "        r\"who (.*) (moviestar|actor)?\",\n",
    "        [\"Aamir Khan\", \"Pariniti Chopra\",]\n",
    "    ],\n",
    "    [\n",
    "        r\"quit\",\n",
    "        [\"BBye take care. See you soon :) \",\"It was nice talking to you. See you soon :)\"]\n",
    "    ],\n",
    "]\n",
    "\n"
   ]
  },
  {
   "cell_type": "code",
   "execution_count": null,
   "id": "b4c8ee13",
   "metadata": {},
   "outputs": [
    {
     "name": "stdout",
     "output_type": "stream",
     "text": [
      "Hi! I am a chatbot created by Team-Pitchers for your assistance\n",
      ">Hi\n",
      "Namskar\n",
      ">How are you?\n",
      "I'm good,What about you?\n",
      ">WHo are you?\n",
      "Aamir Khan\n",
      ">who is your favorite sportsman\n",
      "I'm a very big fan of football,Real Madrid is my fav team\n",
      ">How is your health?\n",
      "Super Fine\n",
      ">whoo created ypu?\n",
      "It is a secret\n"
     ]
    }
   ],
   "source": [
    "def chat():\n",
    "    print(\"Hi! I am a chatbot created by Team-Pitchers for your assistance\")\n",
    "    chat = Chat(pairs, reflections)\n",
    "    chat.converse()\n",
    "\n",
    "chat()"
   ]
  },
  {
   "cell_type": "code",
   "execution_count": null,
   "id": "178e5ea1",
   "metadata": {},
   "outputs": [],
   "source": []
  }
 ],
 "metadata": {
  "interpreter": {
   "hash": "9b30c7f5058f3d4c10dff5be70f9e3e0ada8a9ad53c56abcae3913430c269a5e"
  },
  "kernelspec": {
   "display_name": "Python 3.10.2 64-bit",
   "language": "python",
   "name": "python3"
  },
  "language_info": {
   "codemirror_mode": {
    "name": "ipython",
    "version": 3
   },
   "file_extension": ".py",
   "mimetype": "text/x-python",
   "name": "python",
   "nbconvert_exporter": "python",
   "pygments_lexer": "ipython3",
   "version": "3.10.2"
  }
 },
 "nbformat": 4,
 "nbformat_minor": 5
}
