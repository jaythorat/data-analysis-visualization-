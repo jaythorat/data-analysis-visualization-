{
 "cells": [
  {
   "cell_type": "code",
   "execution_count": 2,
   "id": "dda103cc",
   "metadata": {},
   "outputs": [],
   "source": [
    "import requests\n",
    "from bs4 import BeautifulSoup"
   ]
  },
  {
   "cell_type": "markdown",
   "id": "fcfbe759",
   "metadata": {},
   "source": [
    "# Assignment 1"
   ]
  },
  {
   "cell_type": "code",
   "execution_count": 3,
   "id": "673fce6b",
   "metadata": {},
   "outputs": [],
   "source": [
    "\n",
    "url = \"https://engg.kkwagh.edu.in/academic_programme/photogallery/14\"\n",
    "r = requests.get(url)\n",
    "content = r.content\n",
    "soup = BeautifulSoup(content, 'html5lib')"
   ]
  },
  {
   "cell_type": "code",
   "execution_count": 4,
   "id": "24baa832",
   "metadata": {},
   "outputs": [
    {
     "name": "stdout",
     "output_type": "stream",
     "text": [
      "No of titles on the page : 2\n",
      "1 . FE Online Induction programme \n",
      "2 . Online Induction programme \n"
     ]
    }
   ],
   "source": [
    "soup.prettify()\n",
    "mydivs = soup.find_all(\"div\", {\"class\": \"popup-gallery\"})\n",
    "titles = mydivs[0].find_all(\"p\")\n",
    "print(f\"No of titles on the page : {len(titles)}\")\n",
    "for i in range(len(titles)):\n",
    "    print(i+1,\".\",titles[i].get_text())"
   ]
  },
  {
   "cell_type": "markdown",
   "id": "f78071e5",
   "metadata": {},
   "source": [
    "# Assignment 2"
   ]
  },
  {
   "cell_type": "code",
   "execution_count": 13,
   "id": "a5fc9d85",
   "metadata": {},
   "outputs": [],
   "source": [
    "\n",
    "import pandas as pd\n",
    "url = \"https://engg.kkwagh.edu.in/academic_programme/faculty/1\"\n",
    "r = requests.get(url)\n",
    "content = r.content\n",
    "soup = BeautifulSoup(content, 'html5lib')\n",
    "df = pd.read_html(url)"
   ]
  },
  {
   "cell_type": "code",
   "execution_count": 14,
   "id": "b40f01b9",
   "metadata": {},
   "outputs": [],
   "source": [
    "df1 =pd.DataFrame(df[0].drop([\"Qualification\",\"Email Id\"], axis = 1))\n",
    "df1.to_excel(\"faculty.xlsx\")"
   ]
  }
 ],
 "metadata": {
  "kernelspec": {
   "display_name": "Python 3 (ipykernel)",
   "language": "python",
   "name": "python3"
  },
  "language_info": {
   "codemirror_mode": {
    "name": "ipython",
    "version": 3
   },
   "file_extension": ".py",
   "mimetype": "text/x-python",
   "name": "python",
   "nbconvert_exporter": "python",
   "pygments_lexer": "ipython3",
   "version": "3.10.2"
  }
 },
 "nbformat": 4,
 "nbformat_minor": 5
}
